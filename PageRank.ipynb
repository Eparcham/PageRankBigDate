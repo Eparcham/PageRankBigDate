{
  "nbformat": 4,
  "nbformat_minor": 0,
  "metadata": {
    "colab": {
      "name": "Untitled0.ipynb",
      "provenance": [],
      "authorship_tag": "ABX9TyMpA+qBgRddP/dKwdwZAgnP",
      "include_colab_link": true
    },
    "kernelspec": {
      "name": "python3",
      "display_name": "Python 3"
    },
    "language_info": {
      "name": "python"
    }
  },
  "cells": [
    {
      "cell_type": "markdown",
      "metadata": {
        "id": "view-in-github",
        "colab_type": "text"
      },
      "source": [
        "<a href=\"https://colab.research.google.com/github/Eparcham/PageRankBigDate/blob/master/PageRank.ipynb\" target=\"_parent\"><img src=\"https://colab.research.google.com/assets/colab-badge.svg\" alt=\"Open In Colab\"/></a>"
      ]
    },
    {
      "cell_type": "code",
      "execution_count": 1,
      "metadata": {
        "colab": {
          "base_uri": "https://localhost:8080/"
        },
        "id": "Fgt81G7IZqLd",
        "outputId": "ece6de1b-30e5-46c9-e1d8-255caff6016a"
      },
      "outputs": [
        {
          "output_type": "stream",
          "name": "stdout",
          "text": [
            "[[0 1 1]\n",
            " [1 0 1]\n",
            " [0 0 0]]\n",
            "0.0\n",
            "number of Node:  3\n",
            "**************************************************\n",
            "[[1, 2], [0, 2], []]\n",
            "[[29008. 28966. 42026.]]\n",
            "[[0.29008 0.28966 0.42026]]\n",
            "[1. 1. 1.]\n",
            "[0.28985507 0.28985507 0.42028986]\n"
          ]
        }
      ],
      "source": [
        "import pandas as pd\n",
        "import numpy as np\n",
        "from scipy.linalg import eig\n",
        "\n",
        "useEgn = True\n",
        "## read file\n",
        "dir_ = \"graph.csv\"\n",
        "graph = pd.read_csv(dir_, header = None, sep = ',').to_numpy()\n",
        "print(graph)\n",
        "b=np.linalg.det(graph)\n",
        "print(b)\n",
        "\n",
        "n = len(graph)\n",
        "print(\"number of Node: \", n)\n",
        "\n",
        "iter_num = 100000 ## step of walk\n",
        "teleport_prob = 0.1 # for walk random in pages\n",
        "\n",
        "## preprocessing (make graph like sparse matrix)\n",
        "print(\"*\"*50)\n",
        "processed_graph = []\n",
        "for i in range(n):\n",
        "    processed_graph.append([])\n",
        "    for j in range(n):\n",
        "        if graph[i,j] ==1:\n",
        "            processed_graph[-1].append(j)\n",
        "\n",
        "print(processed_graph)\n",
        "## call fun take one step from cur_pos and return the new pos\n",
        "cur_pos = np.random.randint(n) ## initial pos of random walk\n",
        "def one_step():\n",
        "    if len(processed_graph[cur_pos]) == 0: # dead end than we must teleport\n",
        "       return np.random.randint(n)\n",
        "\n",
        "    if np.random.rand()<teleport_prob: # make teleport  we can use random walk prob here\n",
        "        return np.random.randint(n)\n",
        "    else:\n",
        "        n_options = len(processed_graph[cur_pos]) ## give number of node we can go\n",
        "        return processed_graph[cur_pos][np.random.randint(n_options)]\n",
        "\n",
        "\n",
        "pagerank = np.zeros([1,n])\n",
        "for i in range(iter_num):\n",
        "    cur_pos = one_step()\n",
        "    pagerank[0,cur_pos] +=1\n",
        "\n",
        "print(pagerank)  ## show vist page\n",
        "pagerank = pagerank / iter_num\n",
        "print(pagerank)  ## show prob page\n",
        "\n",
        "if useEgn :\n",
        "    ## coputation of pagerank using eigenvectors\n",
        "    def prob(a,b):\n",
        "        if len(processed_graph[a])==0: ## dead end\n",
        "            return 1/n  ## go from a to b just with teleport\n",
        "        else:\n",
        "            if b in processed_graph[a]: ## we can go fram a to b or graph[a,b]==1\n",
        "                return  teleport_prob*(1/n) + (1 - teleport_prob) * 1/(len(processed_graph[a]))\n",
        "            else:\n",
        "                return teleport_prob * (1/n)  # we can go to b just with teleport and with teleport prob\n",
        "\n",
        "    M = np.zeros([n,n])\n",
        "    for i in range(n):\n",
        "        for j in range(n):\n",
        "            M[i,j] = prob(i,j)\n",
        "    # print(M)\n",
        "    print(np.sum(M,axis=1))\n",
        "\n",
        "    ## CAL EIG\n",
        "    eig_vals, eig_vecs  = eig(M,left =True, right=False)\n",
        "    idx = np.argmax(eig_vals)\n",
        "    fast_pagerank = eig_vecs[:,idx]/np.sum(eig_vecs[:,idx])\n",
        "    print(np.abs(fast_pagerank))\n",
        "\n",
        "\n",
        "\n"
      ]
    },
    {
      "cell_type": "code",
      "source": [
        "import pandas as pd\n",
        "import numpy as np\n",
        "from scipy.linalg import eig\n",
        "import scipy as sp\n",
        "import scipy.sparse as sprs\n",
        "import scipy.spatial\n",
        "import scipy.sparse.linalg\n",
        "useEgn = True\n",
        "## read file\n",
        "dir_ = \"graph.csv\"\n",
        "graph = pd.read_csv(dir_, header = None, sep = ',').to_numpy()\n",
        "print(graph)\n",
        "## show how to work @\n",
        "# nCol = 5\n",
        "# zarib1 = 2\n",
        "# zarib2 =2\n",
        "# sum_ = (zarib1*zarib2) * nCol\n",
        "# a = np.ones([3,nCol])*zarib1\n",
        "# b = np.ones([nCol,1])*zarib2\n",
        "# c = a @ b\n",
        "# print(c)\n",
        "\n",
        "def pagerank_power(A, max_iter=1000,tol=1e-06):\n",
        "\n",
        "    n, _ = A.shape\n",
        "    x = np.asarray(A.sum(axis=1)).reshape(-1)\n",
        "    k = x.nonzero()[0]\n",
        "    D_1 = sprs.csr_matrix((1 / x[k], (k, k)), shape=(n, n))\n",
        "    z_T = (((x != 0) + (x == 0)) / n)[sp.newaxis, :]\n",
        "    M =  A.T @ D_1\n",
        "\n",
        "    r = np.ones([n,1])\n",
        "    r = r / n\n",
        "    oldx = np.zeros((n, 1))\n",
        "\n",
        "    iteration = 0\n",
        "    while sp.linalg.norm(r - oldx) > tol:\n",
        "        oldx = r\n",
        "        ## OLD WAY\n",
        "        # x = M @ x + s @ (z_T @ x)\n",
        "        # x = M @ x + (z_T @ x)\n",
        "        # x = np.dot(M, x) + np.dot(s , np.dot(z_T , x))\n",
        "        r = np.dot(M, r) + np.dot(z_T, r)\n",
        "        iteration += 1\n",
        "        if iteration >= max_iter:\n",
        "            break\n",
        "\n",
        "    r = r / sum(r)\n",
        "\n",
        "    return r.reshape(-1)\n",
        "\n",
        "print(pagerank_power(graph))\n",
        "\n"
      ],
      "metadata": {
        "colab": {
          "base_uri": "https://localhost:8080/"
        },
        "id": "Q_BH0OUUZ_Ge",
        "outputId": "e65038b0-f879-42fa-806a-aff6c068cdd2"
      },
      "execution_count": 2,
      "outputs": [
        {
          "output_type": "stream",
          "name": "stdout",
          "text": [
            "[[0 1 1]\n",
            " [1 0 1]\n",
            " [0 0 0]]\n",
            "[0.30195628 0.30195628 0.39608744]\n"
          ]
        }
      ]
    }
  ]
}